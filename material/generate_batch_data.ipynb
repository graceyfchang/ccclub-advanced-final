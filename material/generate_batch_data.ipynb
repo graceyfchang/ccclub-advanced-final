{
 "cells": [
  {
   "source": [
    "MIT License\n",
    "\n",
    "Copyright (c) Microsoft Corporation. All rights reserved.\n",
    "\n",
    "This notebook is adapted from Microsoft Learning mslearn-dp100 \n",
    "\n",
    "Copyright (c) 2021 PyLadies Amsterdam, Alyona Galyeva"
   ],
   "cell_type": "markdown",
   "metadata": {}
  },
  {
   "cell_type": "markdown",
   "metadata": {},
   "source": [
    "# Generate batch data"
   ]
  },
  {
   "cell_type": "code",
   "execution_count": null,
   "metadata": {},
   "outputs": [],
   "source": [
    "import os\n",
    "import pandas as pd\n",
    "import numpy as np\n",
    "from azureml.core import Workspace, Dataset"
   ]
  },
  {
   "cell_type": "code",
   "execution_count": null,
   "metadata": {},
   "outputs": [],
   "source": [
    "WORKDIR = os.getcwd()"
   ]
  },
  {
   "cell_type": "code",
   "execution_count": null,
   "metadata": {},
   "outputs": [],
   "source": [
    "# Create a folder\n",
    "BATCH_FOLDER = 'batch-data'\n",
    "os.makedirs(BATCH_FOLDER, exist_ok=True)\n",
    "print(\"Folder created!\")"
   ]
  },
  {
   "cell_type": "code",
   "execution_count": null,
   "metadata": {},
   "outputs": [],
   "source": [
    "# get the workspace from config.json\n",
    "ws = Workspace.from_config()\n",
    "# get the datastore to upload our data\n",
    "datastore = ws.get_default_datastore()"
   ]
  },
  {
   "cell_type": "code",
   "execution_count": null,
   "metadata": {},
   "outputs": [],
   "source": [
    "# retrieve test dataset from Azure Datastore\n",
    "test_ds = Dataset.get_by_name(ws, name=\"test_nyc_demand_data\")\n",
    "test = test_ds.to_pandas_dataframe()\n",
    "test.head()"
   ]
  },
  {
   "cell_type": "code",
   "execution_count": null,
   "metadata": {},
   "outputs": [],
   "source": [
    "# pick up 1 week from Monday 31-07-2017 to Sunday 06-08-2017, drop target and timestamp, convert to numpy arrow\n",
    "X = test[9480:9648]\n",
    "X = X.drop(['demand', 'timeStamp'], axis=1)\n",
    "X = X.to_numpy()"
   ]
  },
  {
   "cell_type": "code",
   "execution_count": null,
   "metadata": {},
   "outputs": [],
   "source": [
    "# Save each sample as a separate file\n",
    "print(\"Saving files...\")\n",
    "for i in range(len(X)):\n",
    "    fname = str(i+1) + '.csv'\n",
    "    X[i].tofile(os.path.join(BATCH_FOLDER, fname), sep=\",\")\n",
    "print(\"files saved!\")"
   ]
  },
  {
   "cell_type": "code",
   "execution_count": null,
   "metadata": {},
   "outputs": [],
   "source": [
    "datastore.upload(src_dir=\"batch-data\", target_path=\"batch-data\", overwrite=True, show_progress=True)"
   ]
  },
  {
   "cell_type": "code",
   "execution_count": null,
   "metadata": {},
   "outputs": [],
   "source": [
    "# Register a dataset for the input data\n",
    "batch_data_set = Dataset.File.from_files(path=(datastore, 'batch-data/'), validate=False)\n",
    "try:\n",
    "    batch_data_set = batch_data_set.register(workspace=ws, \n",
    "                                             name='batch-data',\n",
    "                                             description='batch data for nyc demand energy forecast',\n",
    "                                             create_new_version=True)\n",
    "except Exception as ex:\n",
    "    print(ex)\n",
    "\n",
    "print(\"Done!\")"
   ]
  }
 ],
 "metadata": {
  "kernelspec": {
   "name": "python3",
   "display_name": "Python 3.8.10 64-bit ('mlops_train': conda)"
  },
  "language_info": {
   "codemirror_mode": {
    "name": "ipython",
    "version": 3
   },
   "file_extension": ".py",
   "mimetype": "text/x-python",
   "name": "python",
   "nbconvert_exporter": "python",
   "pygments_lexer": "ipython3",
   "version": "3.8.10"
  },
  "interpreter": {
   "hash": "15eb2d70be7d7d9baddaf6c9c4fecdefddeb65a737952d883f3b0e583de09784"
  }
 },
 "nbformat": 4,
 "nbformat_minor": 2
}